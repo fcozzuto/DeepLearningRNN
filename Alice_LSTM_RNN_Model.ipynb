{
 "cells": [
  {
   "cell_type": "markdown",
   "id": "7b881865",
   "metadata": {},
   "source": [
    "Import libraries"
   ]
  },
  {
   "cell_type": "code",
   "execution_count": 2,
   "id": "9f0abd76-60ec-489a-b8f9-e81dab07ef38",
   "metadata": {},
   "outputs": [],
   "source": [
    "import torch\n",
    "import torch.nn as nn\n",
    "import torch.optim as optim\n",
    "import numpy as np\n",
    "import matplotlib.pyplot as plt\n",
    "import requests\n",
    "import re"
   ]
  },
  {
   "cell_type": "markdown",
   "id": "f4b12e69",
   "metadata": {},
   "source": [
    "Load and preprocess Data"
   ]
  },
  {
   "cell_type": "code",
   "execution_count": null,
   "id": "cdcbe01b",
   "metadata": {},
   "outputs": [
    {
     "name": "stdout",
     "output_type": "stream",
     "text": [
      "Dataset downloaded successfully!\n",
      "*** START OF THE PROJECT GUTENBERG EBOOK 11 ***\n",
      "\n",
      "[Illustration]\n",
      "\n",
      "\n",
      "\n",
      "\n",
      "Alice’s Adventures in Wonderland\n",
      "\n",
      "by Lewis Carroll\n",
      "\n",
      "THE MILLENNIUM FULCRUM EDITION 3.0\n",
      "\n",
      "Contents\n",
      "\n",
      " CHAPTER I.     Down the Rabbit-Hole\n",
      " CHAPTER II.    The Pool of Tears\n",
      " CHAPTER III.   A Caucus-Race and a Long Tale\n",
      " CHAPTER IV.    The Rabbit Sends in a Little Bill\n",
      " CHAPTER V.     Advice from a Caterpillar\n",
      " CHAPTER VI.    Pig and Pepper\n",
      " CHAPTER VII.   A Mad Tea-Party\n",
      " CHAPTER VIII.  The Queen’s Croquet-Grou\n"
     ]
    }
   ],
   "source": [
    "# URL for the text of \"Alice's Adventures in Wonderland\"\n",
    "url = \"https://www.gutenberg.org/files/11/11-0.txt\"\n",
    "\n",
    "response = requests.get(url)\n",
    "if response.status_code == 200:\n",
    "    text = response.text\n",
    "    print(\"Dataset downloaded successfully!\")\n",
    "else:\n",
    "    print(\"Error downloading dataset:\", response.status_code)\n",
    "\n",
    "# Quick inspection of the first few hundred characters\n",
    "print(text[:500])"
   ]
  },
  {
   "cell_type": "markdown",
   "id": "740fb6b1",
   "metadata": {},
   "source": [
    "EDA"
   ]
  },
  {
   "cell_type": "code",
   "execution_count": null,
   "id": "a49cd7b7",
   "metadata": {},
   "outputs": [
    {
     "name": "stdout",
     "output_type": "stream",
     "text": [
      "Unique characters: 51\n",
      "Input shape: (147978, 100)\n",
      "Target shape: (147978, 100)\n"
     ]
    }
   ],
   "source": [
    "# Removing Project Gutenberg header and footer\n",
    "start_marker = r\"\\*\\*\\* START OF THIS PROJECT GUTENBERG EBOOK .* \\*\\*\\*\"\n",
    "end_marker = r\"\\*\\*\\* END OF THIS PROJECT GUTENBERG EBOOK .* \\*\\*\\*\"\n",
    "text = re.split(start_marker, text, flags=re.IGNORECASE)[-1]\n",
    "text = re.split(end_marker, text, flags=re.IGNORECASE)[0]\n",
    "\n",
    "# Converting text to lowercase and removing extra whitespace\n",
    "text = text.lower().strip()\n",
    "\n",
    "# Building vocabulary of unique characters\n",
    "vocab = sorted(set(text))\n",
    "vocab_size = len(vocab)\n",
    "print(\"Unique characters:\", vocab_size)\n",
    "\n",
    "# Creating mappings between characters and indices\n",
    "char_to_idx = {ch: i for i, ch in enumerate(vocab)}\n",
    "idx_to_char = {i: ch for i, ch in enumerate(vocab)}\n",
    "\n",
    "# Encoding the text into integers\n",
    "encoded_text = np.array([char_to_idx[ch] for ch in text])\n",
    "\n",
    "# Setting sequence length and generating training examples\n",
    "seq_length = 100\n",
    "inputs = []\n",
    "targets = []\n",
    "\n",
    "for i in range(len(encoded_text) - seq_length):\n",
    "    inputs.append(encoded_text[i:i+seq_length])\n",
    "    targets.append(encoded_text[i+1:i+seq_length+1])  # Shifting target by one\n",
    "\n",
    "inputs = np.array(inputs)\n",
    "targets = np.array(targets)\n",
    "\n",
    "print(\"Input shape:\", inputs.shape)\n",
    "print(\"Target shape:\", targets.shape)"
   ]
  },
  {
   "cell_type": "markdown",
   "id": "dd9cedd9",
   "metadata": {},
   "source": [
    "Define the LSTM Model\n"
   ]
  },
  {
   "cell_type": "markdown",
   "id": "eebb98bd",
   "metadata": {},
   "source": [
    "Set Hyperparameters and Initialize Model"
   ]
  },
  {
   "cell_type": "code",
   "execution_count": null,
   "id": "1cad4dda",
   "metadata": {},
   "outputs": [],
   "source": [
    "class CharLSTM(nn.Module):\n",
    "    def __init__(self, vocab_size, embed_size, hidden_size, num_layers):\n",
    "        super(CharLSTM, self).__init__()\n",
    "        self.embed = nn.Embedding(vocab_size, embed_size)\n",
    "        self.lstm = nn.LSTM(embed_size, hidden_size, num_layers, dropout=0.5, batch_first=True)  # Using dropout for regularization\n",
    "        self.fc = nn.Linear(hidden_size, vocab_size)\n",
    "        if embed_size == hidden_size:\n",
    "            self.fc.weight = self.embed.weight\n",
    "\n",
    "    def forward(self, x, hidden):\n",
    "        # Forward pass: embedding -> LSTM -> reshape -> linear\n",
    "        x = self.embed(x)\n",
    "        out, hidden = self.lstm(x, hidden)\n",
    "        out = out.contiguous().view(-1, out.shape[2])\n",
    "        out = self.fc(out)\n",
    "        return out, hidden\n",
    "\n",
    "    def init_hidden(self, batch_size):\n",
    "        # Initializing hidden and cell states\n",
    "        weight = next(self.parameters()).data\n",
    "        hidden = (weight.new(num_layers, batch_size, hidden_size).zero_(),\n",
    "                  weight.new(num_layers, batch_size, hidden_size).zero_())\n",
    "        return hidden\n",
    "\n",
    "# Hyperparameters\n",
    "embed_size = 256  # Using weight tying\n",
    "hidden_size = 256\n",
    "num_layers = 2\n",
    "learning_rate = 0.002\n",
    "num_epochs = 50\n",
    "batch_size = 256\n",
    "\n",
    "# Model and optimizer setup\n",
    "device = torch.device(\"cuda\" if torch.cuda.is_available() else \"cpu\")\n",
    "model = CharLSTM(vocab_size, embed_size, hidden_size, num_layers).to(device)\n",
    "criterion = nn.CrossEntropyLoss()\n",
    "optimizer = optim.Adam(model.parameters(), lr=learning_rate)\n",
    "scheduler = optim.lr_scheduler.ReduceLROnPlateau(optimizer, factor=0.5, patience=2)  # LR scheduler"
   ]
  },
  {
   "cell_type": "markdown",
   "id": "149115be",
   "metadata": {},
   "source": [
    "Train and test dataset"
   ]
  },
  {
   "cell_type": "code",
   "execution_count": null,
   "id": "2b9ad31d",
   "metadata": {},
   "outputs": [
    {
     "name": "stdout",
     "output_type": "stream",
     "text": [
      "Epoch [1/50], Loss: 1.9125\n",
      "Epoch [2/50], Loss: 1.5796\n",
      "Epoch [3/50], Loss: 1.4494\n",
      "Epoch [4/50], Loss: 1.3664\n",
      "Epoch [5/50], Loss: 1.3043\n",
      "Epoch [6/50], Loss: 1.2551\n",
      "Epoch [7/50], Loss: 1.2139\n",
      "Epoch [8/50], Loss: 1.1780\n",
      "Epoch [9/50], Loss: 1.1455\n",
      "Epoch [10/50], Loss: 1.1164\n",
      "Epoch [11/50], Loss: 1.0896\n",
      "Epoch [12/50], Loss: 1.0680\n",
      "Epoch [13/50], Loss: 1.0455\n",
      "Epoch [14/50], Loss: 1.0250\n",
      "Epoch [15/50], Loss: 1.0068\n",
      "Epoch [16/50], Loss: 0.9908\n",
      "Epoch [17/50], Loss: 0.9757\n",
      "Epoch [18/50], Loss: 0.9615\n",
      "Epoch [19/50], Loss: 0.9487\n",
      "Epoch [20/50], Loss: 0.9375\n",
      "Epoch [21/50], Loss: 0.9274\n",
      "Epoch [22/50], Loss: 0.9179\n",
      "Epoch [23/50], Loss: 0.9096\n",
      "Epoch [24/50], Loss: 0.9001\n",
      "Epoch [25/50], Loss: 0.8917\n",
      "Epoch [26/50], Loss: 0.8844\n",
      "Epoch [27/50], Loss: 0.8778\n",
      "Epoch [28/50], Loss: 0.8716\n",
      "Epoch [29/50], Loss: 0.8650\n",
      "Epoch [30/50], Loss: 0.8593\n",
      "Epoch [31/50], Loss: 0.8541\n",
      "Epoch [32/50], Loss: 0.8478\n",
      "Epoch [33/50], Loss: 0.8425\n",
      "Epoch [34/50], Loss: 0.8381\n",
      "Epoch [35/50], Loss: 0.8336\n",
      "Epoch [36/50], Loss: 0.8287\n",
      "Epoch [37/50], Loss: 0.8250\n",
      "Epoch [38/50], Loss: 0.8201\n",
      "Epoch [39/50], Loss: 0.8173\n",
      "Epoch [40/50], Loss: 0.8134\n",
      "Epoch [41/50], Loss: 0.8088\n",
      "Epoch [42/50], Loss: 0.8066\n",
      "Epoch [43/50], Loss: 0.8046\n",
      "Epoch [44/50], Loss: 0.8009\n",
      "Epoch [45/50], Loss: 0.7962\n",
      "Epoch [46/50], Loss: 0.7935\n",
      "Epoch [47/50], Loss: 0.7898\n",
      "Epoch [48/50], Loss: 0.7874\n",
      "Epoch [49/50], Loss: 0.7845\n",
      "Epoch [50/50], Loss: 0.7830\n"
     ]
    },
    {
     "data": {
      "image/png": "[encoded data removed]",
      "text/plain": [
       "<Figure size 800x400 with 1 Axes>"
      ]
     },
     "metadata": {},
     "output_type": "display_data"
    }
   ],
   "source": [
    "# Getting batches\n",
    "def get_batches(inputs, targets, batch_size):\n",
    "    total_batches = len(inputs) // batch_size\n",
    "    for i in range(0, total_batches * batch_size, batch_size):\n",
    "        x = inputs[i:i+batch_size]\n",
    "        y = targets[i:i+batch_size]\n",
    "        yield torch.LongTensor(x), torch.LongTensor(y)\n",
    "\n",
    "# Training loop\n",
    "all_losses = []\n",
    "model.train()\n",
    "for epoch in range(num_epochs):\n",
    "    hidden = model.init_hidden(batch_size)\n",
    "    epoch_loss = 0.0\n",
    "    batch_count = 0\n",
    "    for x_batch, y_batch in get_batches(inputs, targets, batch_size):\n",
    "        x_batch, y_batch = x_batch.to(device), y_batch.to(device)\n",
    "        hidden = tuple(h.detach() for h in hidden)\n",
    "        optimizer.zero_grad()\n",
    "        outputs, hidden = model(x_batch, hidden)\n",
    "        loss = criterion(outputs, y_batch.view(-1))\n",
    "        loss.backward()\n",
    "        torch.nn.utils.clip_grad_norm_(model.parameters(), max_norm=5)\n",
    "        optimizer.step()\n",
    "        epoch_loss += loss.item()\n",
    "        batch_count += 1\n",
    "    avg_loss = epoch_loss / batch_count\n",
    "    all_losses.append(avg_loss)\n",
    "    scheduler.step(avg_loss)\n",
    "    print(f\"Epoch [{epoch+1}/{num_epochs}], Loss: {avg_loss:.4f}\")\n",
    "\n",
    "# Plot training loss\n",
    "plt.figure(figsize=(8, 4))\n",
    "plt.plot(all_losses, label='Training Loss')\n",
    "plt.title(\"Training Loss over Epochs\")\n",
    "plt.xlabel(\"Epoch\")\n",
    "plt.ylabel(\"Loss\")\n",
    "plt.legend()\n",
    "plt.show()"
   ]
  },
  {
   "cell_type": "markdown",
   "id": "3f804dac",
   "metadata": {},
   "source": [
    "Evaluate the Model with test data"
   ]
  },
  {
   "cell_type": "code",
   "execution_count": null,
   "id": "1c8368db",
   "metadata": {},
   "outputs": [
    {
     "name": "stdout",
     "output_type": "stream",
     "text": [
      "Generated text:\n",
      "\n",
      "alice did not seem to be true_—’ that’s, you know—”\n",
      "\n",
      "“come, ly, that they looked so, and shake out afterwards. only both make your evidence\n",
      "\n",
      "\n",
      "“call him the day—”\n",
      "\n",
      "“then the twinkling of the march hare had never fiels him teand, and she jumped up on their slates; “and must have this cheered, all\n",
      "t\n"
     ]
    }
   ],
   "source": [
    "def sample(model, start_str, length=200, temperature=1.0):\n",
    "    model.eval()\n",
    "    input_seq = torch.LongTensor([char_to_idx[ch] for ch in start_str]).unsqueeze(0).to(device)\n",
    "    hidden = model.init_hidden(1)\n",
    "    predicted = start_str\n",
    "\n",
    "    for _ in range(length):\n",
    "        output, hidden = model(input_seq, hidden)\n",
    "        output = output[-1] / (temperature if temperature > 0 else 1.0)\n",
    "        prob = torch.softmax(output, dim=0).data\n",
    "        char_idx = torch.multinomial(prob, 1).item()\n",
    "        predicted += idx_to_char[char_idx]\n",
    "        input_seq = torch.LongTensor([[char_idx]]).to(device)\n",
    "    return predicted\n",
    "\n",
    "# Generate text starting with \"alice\"\n",
    "seed = \"alice\"\n",
    "generated_text = sample(model, seed, length=300, temperature=0.8)\n",
    "print(\"Generated text:\\n\")\n",
    "print(generated_text)"
   ]
  }
 ],
 "metadata": {
  "kernelspec": {
   "display_name": "DeepLearningFinalProj",
   "language": "python",
   "name": "python3"
  },
  "language_info": {
   "codemirror_mode": {
    "name": "ipython",
    "version": 3
   },
   "file_extension": ".py",
   "mimetype": "text/x-python",
   "name": "python",
   "nbconvert_exporter": "python",
   "pygments_lexer": "ipython3",
   "version": "3.13.2"
  }
 },
 "nbformat": 4,
 "nbformat_minor": 5
}
